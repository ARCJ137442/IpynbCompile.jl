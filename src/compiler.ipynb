{
 "cells": [
  {
   "cell_type": "markdown",
   "metadata": {},
   "source": [
    "# IpynbCompile.jl 交互式命令行"
   ]
  },
  {
   "cell_type": "markdown",
   "metadata": {},
   "source": [
    "**✨执行其中所有单元格，可自动构建、测试并生成相应`.jl`源码**！"
   ]
  },
  {
   "cell_type": "markdown",
   "metadata": {},
   "source": [
    "主要用途：为 ***IpynbCompile.jl*** 提供交互访问接口\n",
    "- 可通过cmd命令行调用\n",
    "    - 直接编译 语法：`compiler.ipynb.jl 文件名.ipynb`\n",
    "- 可直接打开并进入「交互模式」\n",
    "    - 直接键入路径，自动解析、编译并生成`.jl`文件"
   ]
  },
  {
   "cell_type": "markdown",
   "metadata": {},
   "source": [
    "## 引入模块"
   ]
  },
  {
   "cell_type": "code",
   "execution_count": 1,
   "metadata": {},
   "outputs": [
    {
     "name": "stderr",
     "output_type": "stream",
     "text": [
      "WARNING: replacing module IpynbCompile.\n"
     ]
    },
    {
     "data": {
      "text/plain": [
       "Main.IpynbCompile"
      ]
     },
     "execution_count": 1,
     "metadata": {},
     "output_type": "execute_result"
    }
   ],
   "source": [
    "# 编译后脚本中【直接引入】即可\n",
    "LIB_IPYNB_PATH = \"IpynbCompile.ipynb\"\n",
    "LIB_JL_PATH = \"IpynbCompile.jl\"\n",
    "include(LIB_JL_PATH)\n",
    "\n",
    "# %ignore-below\n",
    "# ! 在Jupyter笔记本中执行时，将尝试编译\"IpynbCompile.ipynb\"并再度引入\n",
    "IpynbCompile.compile_notebook(LIB_IPYNB_PATH, LIB_JL_PATH) # 编译\n",
    "include(LIB_JL_PATH) # 再次引入"
   ]
  },
  {
   "cell_type": "code",
   "execution_count": 2,
   "metadata": {},
   "outputs": [
    {
     "data": {
      "text/plain": [
       "3302"
      ]
     },
     "execution_count": 2,
     "metadata": {},
     "output_type": "execute_result"
    }
   ],
   "source": [
    "# %ignore-cell # ! 尝试编译自身\n",
    "SELF_FILE = \"compiler.ipynb\"\n",
    "OUT_LIB_FILE = \"compiler.jl\"\n",
    "IpynbCompile.compile_notebook(SELF_FILE, OUT_LIB_FILE)"
   ]
  },
  {
   "cell_type": "markdown",
   "metadata": {},
   "source": [
    "## 预置函数"
   ]
  },
  {
   "cell_type": "code",
   "execution_count": 3,
   "metadata": {},
   "outputs": [
    {
     "data": {
      "text/plain": [
       "try_compile_notebook (generic function with 1 method)"
      ]
     },
     "execution_count": 3,
     "metadata": {},
     "output_type": "execute_result"
    }
   ],
   "source": [
    "try_compile_notebook(path, destination) = try\n",
    "    printstyled(\"Compiling \\\"$path\\\" => \\\"$destination\\\"...\\n\", color=:white)\n",
    "    local num_bytes = IpynbCompile.compile_notebook(path, destination)\n",
    "    # 编译结果\n",
    "    printstyled(\"[√] Compiling succeed with $num_bytes bytes!\\n\", color=:light_green)\n",
    "catch e\n",
    "    printstyled(\"[×] Compiling failed!\\n\", color=:light_red)\n",
    "    @error e\n",
    "    showerror(e)\n",
    "end"
   ]
  },
  {
   "cell_type": "markdown",
   "metadata": {},
   "source": [
    "## 处理传入的命令行参数"
   ]
  },
  {
   "cell_type": "markdown",
   "metadata": {},
   "source": [
    "处理方法：将其中所有参数视作**Jupyter笔记本路径**，直接【编译】成`.jl`文件"
   ]
  },
  {
   "cell_type": "code",
   "execution_count": 4,
   "metadata": {},
   "outputs": [
    {
     "data": {
      "text/plain": [
       "compile_with_ARGS (generic function with 2 methods)"
      ]
     },
     "execution_count": 4,
     "metadata": {},
     "output_type": "execute_result"
    }
   ],
   "source": [
    "# ! 📝Julia对「命令行参数」的存储：【不包括】自身路径\n",
    "function compile_with_ARGS(ARGS=ARGS)\n",
    "    for path in ARGS\n",
    "        try_compile_notebook(path)\n",
    "    end\n",
    "end"
   ]
  },
  {
   "cell_type": "markdown",
   "metadata": {},
   "source": [
    "## 交互模式"
   ]
  },
  {
   "cell_type": "code",
   "execution_count": 5,
   "metadata": {},
   "outputs": [
    {
     "data": {
      "text/plain": [
       "interactive_mode"
      ]
     },
     "execution_count": 5,
     "metadata": {},
     "output_type": "execute_result"
    }
   ],
   "source": [
    "\"\"\"\n",
    "交互模式\n",
    "- 📌不断请求输入路径\n",
    "\"\"\"\n",
    "function interactive_mode()\n",
    "    local path::AbstractString, out_path::AbstractString\n",
    "    # 开始循环\n",
    "    while true\n",
    "        # 请求输入路径 | 空值⇒退出\n",
    "        printstyled(\"IpynbCompile> path=\"; color=:light_cyan, bold=true)\n",
    "        path = readline()\n",
    "        # 空路径⇒退出\n",
    "        if isempty(path)\n",
    "            printstyled(\"Compiler exit!\\n\", color=:light_blue)\n",
    "            return\n",
    "        end\n",
    "        # 先读取笔记本\n",
    "        printstyled(\"Reading \\\"$path\\\"...\\n\", color=:white)\n",
    "        local notebook = IpynbCompile.read_notebook(path)\n",
    "        local lang = IpynbCompile.identify_lang(notebook)\n",
    "        local default_out = \"$path.$(IpynbCompile.get_extension(lang))\"\n",
    "        # 请求输出路径 | 默认为`输入路径.jl`\n",
    "        printstyled(\"            > out_path(default \\\"$default_out\\\")=\"; color=:light_cyan, bold=true)\n",
    "        out_path = readline()\n",
    "        isempty(out_path) && (out_path = default_out) # 无⇒自动附加扩展名\n",
    "        try_compile_notebook(path, out_path)\n",
    "    end\n",
    "end"
   ]
  },
  {
   "cell_type": "markdown",
   "metadata": {},
   "source": [
    "## 主程序"
   ]
  },
  {
   "cell_type": "markdown",
   "metadata": {},
   "source": [
    "定义"
   ]
  },
  {
   "cell_type": "code",
   "execution_count": 6,
   "metadata": {},
   "outputs": [
    {
     "data": {
      "text/plain": [
       "main"
      ]
     },
     "execution_count": 6,
     "metadata": {},
     "output_type": "execute_result"
    }
   ],
   "source": [
    "\"主程序\"\n",
    "function main()\n",
    "    if isempty(ARGS)\n",
    "        # 【无】附加参数时，进入交互模式\n",
    "        interactive_mode()\n",
    "    else\n",
    "        # 有附加参数时⇒编译所有文件并自动退出\n",
    "        compile_with_ARGS(ARGS)\n",
    "    end\n",
    "end"
   ]
  },
  {
   "cell_type": "markdown",
   "metadata": {},
   "source": [
    "执行"
   ]
  },
  {
   "cell_type": "code",
   "execution_count": 7,
   "metadata": {},
   "outputs": [
    {
     "name": "stdout",
     "output_type": "stream",
     "text": [
      "\u001b[96m\u001b[1mIpynbCompile> path=\u001b[22m\u001b[39m\u001b[94mCompiler exit!\u001b[39m\n"
     ]
    }
   ],
   "source": [
    "#= %only-compiled # ! 编译后是直接执行的\n",
    "main()\n",
    "%only-compiled =#\n",
    "# %ignore-below\n",
    "#= # * 📝Jupyter笔记本中，ARGS传入的参数只有一个，并且内容类似「上下文路径」\n",
    "{\n",
    "    \"key\": \"4a8bb47f-277d-47b5-b620-bcb1442ea48c\",\n",
    "    \"signature_scheme\": \"hmac-sha256\",\n",
    "    \"transport\": \"tcp\",\n",
    "    \"ip\": \"127.0.0.1\",\n",
    "    \"hb_port\": 9010,\n",
    "    \"control_port\": 9011,\n",
    "    \"shell_port\": 9014,\n",
    "    \"stdin_port\": 9015,\n",
    "    \"iopub_port\": 9016,\n",
    "    \"kernel_name\": \"julia-1.9\"\n",
    "}\n",
    "=#\n",
    "# * Jupyter笔记本中：直接进入交互模式\n",
    "interactive_mode()"
   ]
  }
 ],
 "metadata": {
  "kernelspec": {
   "display_name": "Julia 1.9.1",
   "language": "julia",
   "name": "julia-1.9"
  },
  "language_info": {
   "file_extension": ".jl",
   "mimetype": "application/julia",
   "name": "julia",
   "version": "1.9.1"
  }
 },
 "nbformat": 4,
 "nbformat_minor": 2
}
