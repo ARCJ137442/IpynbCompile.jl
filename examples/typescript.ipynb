{
 "cells": [
  {
   "cell_type": "markdown",
   "metadata": {},
   "source": [
    "# Jupyter样例 @ TypeScript"
   ]
  },
  {
   "cell_type": "markdown",
   "metadata": {},
   "source": [
    "✨Powered by [***tslab***](https://github.com/yunabe/tslab)"
   ]
  },
  {
   "cell_type": "markdown",
   "metadata": {},
   "source": [
    "## 简单算法测试：斐波那契数列"
   ]
  },
  {
   "cell_type": "markdown",
   "metadata": {},
   "source": [
    "测试用例：两种方法计算**斐波那契数列值**\n",
    "\n",
    "1. 方法1：递归计算\n",
    "\t1. **特殊**情况（0, 1）⇒ 直接返回\n",
    "\t2. **一般**情况（n>2） ⇒ 递归调用自身\n",
    "2. 方法2：动态规划（线性DP）\n",
    "\t1. 构建**规划空间**：`number`数组`arr`\n",
    "\t2. 建立空间**初态**：`[0, 1]`\n",
    "\t3. **状态转移方程**：`arr[n] = arr[n-1] + arr[n-2]`\n",
    "\t4. 返回**最终结果**：`arr[n]`"
   ]
  },
  {
   "cell_type": "code",
   "execution_count": 1,
   "metadata": {},
   "outputs": [
    {
     "name": "stdout",
     "output_type": "stream",
     "text": [
      "[\n",
      "         0,        1,        1,        2,\n",
      "         3,        5,        8,       13,\n",
      "        21,       34,       55,       89,\n",
      "       144,      233,      377,      610,\n",
      "       987,     1597,     2584,     4181,\n",
      "      6765,    10946,    17711,    28657,\n",
      "     46368,    75025,   121393,   196418,\n",
      "    317811,   514229,   832040,  1346269,\n",
      "   2178309,  3524578,  5702887,  9227465,\n",
      "  14930352, 24157817, 39088169, 63245986\n",
      "]\n",
      "递归方法: 1.452s\n",
      "[\n",
      "         0,        1,        1,        2,\n",
      "         3,        5,        8,       13,\n",
      "        21,       34,       55,       89,\n",
      "       144,      233,      377,      610,\n",
      "       987,     1597,     2584,     4181,\n",
      "      6765,    10946,    17711,    28657,\n",
      "     46368,    75025,   121393,   196418,\n",
      "    317811,   514229,   832040,  1346269,\n",
      "   2178309,  3524578,  5702887,  9227465,\n",
      "  14930352, 24157817, 39088169, 63245986\n",
      "]\n",
      "动态规划: 0.426ms\n"
     ]
    }
   ],
   "source": [
    "/**\n",
    " * 简单的递归求斐波那契数\n",
    " * @param n 所求数字\n",
    " * @returns 斐波那契数\n",
    " */\n",
    "const fib = (n: number): number => (n < 2 ? n : fib(n - 1) + fib(n - 2))\n",
    "/**\n",
    " * 使用线性DP求斐波那契数\n",
    " * @param n 所求数字\n",
    " * @returns 斐波那契数\n",
    " */\n",
    "function fib_DP(n: number): number {\n",
    "\t// 构建线性序列\n",
    "\tconst arr: number[] = []\n",
    "\t// 设置初态\n",
    "\tarr.push(0)\n",
    "\tarr.push(1)\n",
    "\t// 设置状态转移方程\n",
    "\tfor (let i = 2; i <= n; i++) {\n",
    "\t\t// 状态转移：fib(i>2) => fib(i-1) + fib(i-2)\n",
    "\t\tarr.push(arr[i - 1] + arr[i - 2])\n",
    "\t}\n",
    "\t// 返回最终结果\n",
    "\treturn arr[n]\n",
    "}\n",
    "\n",
    "/**\n",
    " * 根据指定函数生成特定长度的数组\n",
    " * @param N 生成的数组长度\n",
    " * @param f 用于映射生成的函数\n",
    " * @returns 生成的特定类型数组\n",
    " */\n",
    "function generateArr<T>(N: number, f: (i: number) => T): T[] {\n",
    "\tconst arr: T[] = []\n",
    "\tfor (let i = 0; i < N; i++) {\n",
    "\t\tarr.push(f(i))\n",
    "\t}\n",
    "\treturn arr\n",
    "}\n",
    "\n",
    "// 测试\n",
    "{\n",
    "\tconst N = 40\n",
    "\n",
    "\tconsole.time('递归方法')\n",
    "\tconsole.log(generateArr(N, fib))\n",
    "\tconsole.timeEnd('递归方法')\n",
    "\n",
    "\tconsole.time('动态规划')\n",
    "\tconsole.log(generateArr(N, fib_DP))\n",
    "\tconsole.timeEnd('动态规划')\n",
    "}\n"
   ]
  }
 ],
 "metadata": {
  "kernelspec": {
   "display_name": "TypeScript",
   "language": "typescript",
   "name": "tslab"
  },
  "language_info": {
   "codemirror_mode": {
    "mode": "typescript",
    "name": "javascript",
    "typescript": true
   },
   "file_extension": ".ts",
   "mimetype": "text/typescript",
   "name": "typescript",
   "version": "3.7.2"
  }
 },
 "nbformat": 4,
 "nbformat_minor": 2
}
