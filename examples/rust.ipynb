{
 "cells": [
  {
   "cell_type": "markdown",
   "metadata": {},
   "source": [
    "# Jupyter样例 @ Rust"
   ]
  },
  {
   "cell_type": "markdown",
   "metadata": {},
   "source": [
    "✨Powered by [***EVCXR***](https://github.com/evcxr/evcxr)"
   ]
  },
  {
   "cell_type": "markdown",
   "metadata": {},
   "source": [
    "## 简单斐波那契数\n",
    "\n",
    "- 递归版\n",
    "- 动态规划版"
   ]
  },
  {
   "cell_type": "markdown",
   "metadata": {},
   "source": [
    "### 递归版"
   ]
  },
  {
   "cell_type": "code",
   "execution_count": 2,
   "metadata": {
    "vscode": {
     "languageId": "rust"
    }
   },
   "outputs": [],
   "source": [
    "/**\n",
    " * 简单的递归求斐波那契数（递归版）\n",
    " * @param n 所求数字\n",
    " * @returns 斐波那契数\n",
    " */\n",
    "fn fib(n: i32) -> i32 {\n",
    "    if n < 2 {\n",
    "        return n;\n",
    "    } else {\n",
    "        return fib(n - 1) + fib(n - 2);\n",
    "    }\n",
    "}"
   ]
  },
  {
   "cell_type": "markdown",
   "metadata": {},
   "source": [
    "### 线性DP版"
   ]
  },
  {
   "cell_type": "code",
   "execution_count": 3,
   "metadata": {
    "vscode": {
     "languageId": "rust"
    }
   },
   "outputs": [],
   "source": [
    "/**\n",
    " * 使用线性DP求斐波那契数\n",
    " * @param n 所求数字\n",
    " * @returns 斐波那契数\n",
    " */\n",
    "fn fib_DP(n:i32) -> i32{\n",
    "    // 构建线性序列\n",
    "    // 初始化数组 & 设置初态\n",
    "    let mut arr: Vec<i32> = vec![0, 1];\n",
    "    // 设置状态转移方程\n",
    "    let i: usize; // 只需声明类型，后续在循环中初始化\n",
    "    let n: usize = n as usize;\n",
    "    for i in 2..(n+1) {\n",
    "        // 状态转移：fib(i>2) => fib(i-1) + fib(i-2)\n",
    "        arr.push(arr[i - 1] + arr[i - 2]);\n",
    "    }\n",
    "    // 返回最终结果\n",
    "    return arr[n]\n",
    "}"
   ]
  },
  {
   "cell_type": "markdown",
   "metadata": {},
   "source": [
    "### 测试"
   ]
  },
  {
   "cell_type": "code",
   "execution_count": 33,
   "metadata": {
    "vscode": {
     "languageId": "rust"
    }
   },
   "outputs": [
    {
     "name": "stdout",
     "output_type": "stream",
     "text": [
      "[0, 1, 1, 2, 3, 5, 8, 13, 21, 34, 55, 89, 144, 233, 377, 610, 987, 1597, 2584, 4181, 6765, 10946, 17711, 28657, 46368, 75025, 121393, 196418, 317811, 514229, 832040, 1346269, 2178309, 3524578, 5702887, 9227465, 14930352, 24157817, 39088169, 63245986]\n",
      "递归方法: 0.5693288 s\n",
      "[0, 1, 1, 2, 3, 5, 8, 13, 21, 34, 55, 89, 144, 233, 377, 610, 987, 1597, 2584, 4181, 6765, 10946, 17711, 28657, 46368, 75025, 121393, 196418, 317811, 514229, 832040, 1346269, 2178309, 3524578, 5702887, 9227465, 14930352, 24157817, 39088169, 63245986]\n",
      "动态规划: 0.0000222 s\n"
     ]
    }
   ],
   "source": [
    "// 测试\n",
    "\n",
    "use std::time::Instant;\n",
    "use std::time::Duration;\n",
    "\n",
    "/** 简单的数组打印函数 */\n",
    "fn println_vec(v: Vec<i32>) {\n",
    "\tlet i: usize;\n",
    "\tprint!(\"[\");\n",
    "\tfor i in 0..v.len() {\n",
    "\t\tif i != 0 {\n",
    "\t\t\tprint!(\", \");\n",
    "\t\t}\n",
    "\t\tprint!(\"{}\", v[i])\n",
    "\t}\n",
    "\tprintln!(\"]\");\n",
    "}\n",
    "\n",
    "/** 打印时间函数 */   \n",
    "fn println_duration_sec(flag: &str, d: Duration) {\n",
    "\tmatch flag {\n",
    "\t\t\"\" => println!(\"{} s\", d.as_secs_f64()),\n",
    "\t\t_ => println!(\"{flag}: {} s\", d.as_secs_f64()),\n",
    "\t}\n",
    "}\n",
    "\n",
    "/** 定义主函数，允许后续编译成可执行文件 */\n",
    "fn main() {\n",
    "\tconst N: i32 = 40;\n",
    "\n",
    "\tlet t: Instant = Instant::now();\n",
    "\tlet mut arr: Vec<i32> = vec![];\n",
    "\tfor i in 0..N { arr.push(fib(i)); }\n",
    "\tprintln_vec(arr);\n",
    "\tprintln_duration_sec(\"递归方法\", t.elapsed());\n",
    "\t\n",
    "\tlet t: Instant = Instant::now();\n",
    "\tlet mut arr: Vec<i32> = vec![];\n",
    "\t// arr.clear();\n",
    "\tfor i in 0..N { arr.push(fib_DP(i)); }\n",
    "\tprintln_vec(arr);\n",
    "\tprintln_duration_sec(\"动态规划\", t.elapsed());\n",
    "}\n",
    "// %ignore-below\n",
    "main();"
   ]
  }
 ],
 "metadata": {
  "kernelspec": {
   "display_name": "Rust",
   "language": "rust",
   "name": "rust"
  },
  "language_info": {
   "codemirror_mode": "rust",
   "file_extension": ".rs",
   "mimetype": "text/rust",
   "name": "Rust",
   "pygment_lexer": "rust",
   "version": ""
  }
 },
 "nbformat": 4,
 "nbformat_minor": 2
}
