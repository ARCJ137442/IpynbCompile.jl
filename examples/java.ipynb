{
 "cells": [
  {
   "cell_type": "markdown",
   "metadata": {},
   "source": [
    "# Jupyter样例 @ Java"
   ]
  },
  {
   "cell_type": "markdown",
   "metadata": {},
   "source": [
    "✨Powered by [***IJava***](https://github.com/SpencerPark/IJava)"
   ]
  },
  {
   "cell_type": "markdown",
   "metadata": {},
   "source": [
    "## 实用测试工具"
   ]
  },
  {
   "cell_type": "markdown",
   "metadata": {},
   "source": [
    "#### 控制台对象（用于计时）"
   ]
  },
  {
   "cell_type": "code",
   "execution_count": 1,
   "metadata": {},
   "outputs": [
    {
     "name": "stdout",
     "output_type": "stream",
     "text": [
      "[1, 2, 3]\n",
      "测试@控制台: 0.283000s\n"
     ]
    },
    {
     "data": {
      "text/plain": [
       "REPL.$JShell$12$Console@4a52ea3e"
      ]
     },
     "execution_count": 1,
     "metadata": {},
     "output_type": "execute_result"
    }
   ],
   "source": [
    "/** 模拟JS/TS的`Console`对象 */\n",
    "private class Console {\n",
    "    private long _time;\n",
    "    \n",
    "    public void time(String flag) { this.time(); }\n",
    "    public void time() {\n",
    "        this._time = System.currentTimeMillis();\n",
    "    }\n",
    "\n",
    "    public void timeEnd(String flag) {\n",
    "        String message = String.format(\n",
    "            \"%s: %fs\", \n",
    "            flag,\n",
    "            (double)(System.currentTimeMillis() - this._time) / 1000\n",
    "        );\n",
    "        System.out.println(message);\n",
    "    }\n",
    "\n",
    "    public void log(String str) {\n",
    "        System.out.println(str);\n",
    "    }\n",
    "\n",
    "    public void log(int[] arr) {\n",
    "        System.out.println(Arrays.toString(arr));\n",
    "    }\n",
    "}\n",
    "\n",
    "// 创建一个实例\n",
    "final Console console = new Console();\n",
    "// %ignore-below\n",
    "console.time();\n",
    "int[] arr_123 = {1,2,3};\n",
    "console.log(arr_123);\n",
    "console.timeEnd(\"测试@控制台\");\n",
    "console"
   ]
  },
  {
   "cell_type": "markdown",
   "metadata": {},
   "source": [
    "### 数组生成器（`java.util.ArrayList`）"
   ]
  },
  {
   "cell_type": "code",
   "execution_count": 2,
   "metadata": {},
   "outputs": [],
   "source": [
    "import java.util.function.Function;\n",
    "/**\n",
    " * 根据指定函数生成特定长度的数组\n",
    " * @param N 生成的数组长度\n",
    " * @param f 用于映射生成的函数\n",
    " * @returns 生成的特定类型数组\n",
    " */\n",
    "public int[] generateArr(int N, Function<Integer, Integer> f) {\n",
    "    int[] arr = new int[N]; \n",
    "    for (int i = 0; i < N; i++) {\n",
    "        arr[i] = f.apply(i);\n",
    "    }\n",
    "    return arr;\n",
    "}"
   ]
  },
  {
   "cell_type": "markdown",
   "metadata": {},
   "source": [
    "## 简单斐波那契数\n",
    "\n",
    "- 递归版\n",
    "- 动态规划版"
   ]
  },
  {
   "cell_type": "markdown",
   "metadata": {},
   "source": [
    "### 递归版"
   ]
  },
  {
   "cell_type": "code",
   "execution_count": 3,
   "metadata": {},
   "outputs": [
    {
     "data": {
      "text/plain": [
       "true"
      ]
     },
     "execution_count": 3,
     "metadata": {},
     "output_type": "execute_result"
    }
   ],
   "source": [
    "/**\n",
    " * 简单的递归求斐波那契数\n",
    " * @param n 所求数字\n",
    " * @returns 斐波那契数\n",
    " */\n",
    "int fib(int n) {\n",
    "    return n < 2\n",
    "        ? n\n",
    "        : fib(n - 1) + fib(n - 2);\n",
    "}\n",
    "// %ignore-below\n",
    "fib(6) == 8"
   ]
  },
  {
   "cell_type": "code",
   "execution_count": 4,
   "metadata": {},
   "outputs": [
    {
     "data": {
      "text/plain": [
       "true"
      ]
     },
     "execution_count": 4,
     "metadata": {},
     "output_type": "execute_result"
    }
   ],
   "source": [
    "// 导入Java动态数组\n",
    "import java.util.ArrayList;\n",
    "\n",
    "/**\n",
    " * 使用线性DP求斐波那契数\n",
    " * @param n 所求数字\n",
    " * @returns 斐波那契数\n",
    " */\n",
    "int fib_DP(int n) {\n",
    "    // 构建线性序列\n",
    "    final ArrayList<Integer> arr = new ArrayList<>();\n",
    "    // 设置初态\n",
    "    arr.add(0);\n",
    "    arr.add(1);\n",
    "    // 设置状态转移方程\n",
    "\tfor (int i = 2; i <= n; i++) {\n",
    "\t\t// 状态转移：fib(i>2) => fib(i-1) + fib(i-2)\n",
    "\t\tarr.add(arr.get(i - 1) + arr.get(i - 2));\n",
    "\t}\n",
    "    // 返回最终结果\n",
    "    return arr.get(n);\n",
    "}\n",
    "// %ignore-below\n",
    "fib_DP(6) == 8"
   ]
  },
  {
   "cell_type": "code",
   "execution_count": 5,
   "metadata": {},
   "outputs": [
    {
     "name": "stdout",
     "output_type": "stream",
     "text": [
      "[0, 1, 1, 2, 3, 5, 8, 13, 21, 34, 55, 89, 144, 233, 377, 610, 987, 1597, 2584, 4181, 6765, 10946, 17711, 28657, 46368, 75025, 121393, 196418, 317811, 514229, 832040, 1346269, 2178309, 3524578, 5702887, 9227465, 14930352, 24157817, 39088169, 63245986]\n",
      "递归方法: 1.325000s\n",
      "[0, 1, 1, 2, 3, 5, 8, 13, 21, 34, 55, 89, 144, 233, 377, 610, 987, 1597, 2584, 4181, 6765, 10946, 17711, 28657, 46368, 75025, 121393, 196418, 317811, 514229, 832040, 1346269, 2178309, 3524578, 5702887, 9227465, 14930352, 24157817, 39088169, 63245986]\n",
      "动态规划: 0.157000s\n"
     ]
    }
   ],
   "source": [
    "class Main {\n",
    "    static int f_fib (int i) { return fib(i); }\n",
    "    static int f_fib_DP (int i) { return fib_DP(i); }\n",
    "}\n",
    "\n",
    "// 测试\n",
    "final int N = 40;\n",
    "\n",
    "console.time(\"递归方法\");\n",
    "console.log(generateArr(N, Main::f_fib));\n",
    "console.timeEnd(\"递归方法\");\n",
    "\n",
    "console.time(\"动态规划\");\n",
    "console.log(generateArr(N, Main::f_fib_DP));\n",
    "console.timeEnd(\"动态规划\");"
   ]
  }
 ],
 "metadata": {
  "kernelspec": {
   "display_name": "Java",
   "language": "java",
   "name": "java"
  },
  "language_info": {
   "codemirror_mode": "java",
   "file_extension": ".jshell",
   "mimetype": "text/x-java-source",
   "name": "java",
   "pygments_lexer": "java",
   "version": "17.0.3+7-LTS"
  }
 },
 "nbformat": 4,
 "nbformat_minor": 2
}
