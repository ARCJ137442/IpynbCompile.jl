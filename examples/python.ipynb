{
 "cells": [
  {
   "cell_type": "markdown",
   "metadata": {},
   "source": [
    "# Jupyter样例 @ Python"
   ]
  },
  {
   "cell_type": "markdown",
   "metadata": {},
   "source": [
    "✨Powered by [***IPython***](https://github.com/ipython/ipython)"
   ]
  },
  {
   "cell_type": "markdown",
   "metadata": {},
   "source": [
    "## 简单斐波那契数\n",
    "\n",
    "- 递归版\n",
    "- 动态规划版"
   ]
  },
  {
   "cell_type": "markdown",
   "metadata": {},
   "source": [
    "### 递归版"
   ]
  },
  {
   "cell_type": "code",
   "execution_count": 1,
   "metadata": {},
   "outputs": [],
   "source": [
    "\"\"\"简单的递归求斐波那契数（递归版）\n",
    "@param n 所求数字\n",
    "@returns 斐波那契数\n",
    "\"\"\"\n",
    "def fib(n:int) -> int:\n",
    "    if n < 2:\n",
    "        return n\n",
    "    else:\n",
    "        return fib(n - 1) + fib(n - 2)"
   ]
  },
  {
   "cell_type": "markdown",
   "metadata": {},
   "source": [
    "### 线性DP版"
   ]
  },
  {
   "cell_type": "code",
   "execution_count": 6,
   "metadata": {},
   "outputs": [],
   "source": [
    "\"\"\"使用线性DP求斐波那契数\n",
    "@param n 所求数字\n",
    "@returns 斐波那契数\n",
    "\"\"\"\n",
    "def fib_DP(n:int) -> int:\n",
    "    # 构建线性序列\n",
    "    arr: list[int] = []\n",
    "    # 设置初态\n",
    "    arr.append(0)\n",
    "    arr.append(1)\n",
    "    # 设置状态转移方程\n",
    "    for i in range(2, n+1):\n",
    "        # 状态转移：fib(i>2) => fib(i-1) + fib(i-2)\n",
    "        arr.append(arr[i - 1] + arr[i - 2])\n",
    "    # 返回最终结果\n",
    "    return arr[n]"
   ]
  },
  {
   "cell_type": "markdown",
   "metadata": {},
   "source": [
    "### 测试"
   ]
  },
  {
   "cell_type": "code",
   "execution_count": 9,
   "metadata": {},
   "outputs": [
    {
     "name": "stdout",
     "output_type": "stream",
     "text": [
      "[0, 1, 1, 2, 3, 5, 8, 13, 21, 34, 55, 89, 144, 233, 377, 610, 987, 1597, 2584, 4181, 6765, 10946, 17711, 28657, 46368, 75025, 121393, 196418, 317811, 514229, 832040, 1346269, 2178309, 3524578, 5702887, 9227465, 14930352, 24157817, 39088169, 63245986]\n",
      "递归方法: 40.33270883560181s\n",
      "[0, 1, 1, 2, 3, 5, 8, 13, 21, 34, 55, 89, 144, 233, 377, 610, 987, 1597, 2584, 4181, 6765, 10946, 17711, 28657, 46368, 75025, 121393, 196418, 317811, 514229, 832040, 1346269, 2178309, 3524578, 5702887, 9227465, 14930352, 24157817, 39088169, 63245986]\n",
      "动态规划: 0.0s\n"
     ]
    }
   ],
   "source": [
    "# 测试\n",
    "\n",
    "from time import time\n",
    "t = None\n",
    "def console_time(flag):\n",
    "    global t\n",
    "    t = time()\n",
    "def console_timeEnd(flag):\n",
    "    global t\n",
    "    print(f'{flag}: {time() - t}s')\n",
    "\n",
    "\"\"\"根据指定函数生成特定长度的数组\n",
    "@param N 生成的数组长度\n",
    "@param f 用于映射生成的函数\n",
    "@returns 生成的特定类型数组\n",
    "\"\"\"\n",
    "generateArr = lambda N,f: [f(i) for i in range(N)]\n",
    "\n",
    "if True:\n",
    "\tN = 40\n",
    "\n",
    "\tconsole_time('递归方法')\n",
    "\tprint(generateArr(N, fib))\n",
    "\tconsole_timeEnd('递归方法')\n",
    "\n",
    "\tconsole_time('动态规划')\n",
    "\tprint(generateArr(N, fib_DP))\n",
    "\tconsole_timeEnd('动态规划')\n"
   ]
  }
 ],
 "metadata": {
  "kernelspec": {
   "display_name": "Python 3",
   "language": "python",
   "name": "python3"
  },
  "language_info": {
   "codemirror_mode": {
    "name": "ipython",
    "version": 3
   },
   "file_extension": ".py",
   "mimetype": "text/x-python",
   "name": "python",
   "nbconvert_exporter": "python",
   "pygments_lexer": "ipython3",
   "version": "3.12.1"
  }
 },
 "nbformat": 4,
 "nbformat_minor": 2
}
